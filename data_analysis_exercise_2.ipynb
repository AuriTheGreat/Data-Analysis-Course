{
  "nbformat": 4,
  "nbformat_minor": 0,
  "metadata": {
    "colab": {
      "provenance": [],
      "authorship_tag": "ABX9TyNLizFDKbMLuUel99wPnVbl"
    },
    "kernelspec": {
      "name": "python3",
      "display_name": "Python 3"
    },
    "language_info": {
      "name": "python"
    }
  },
  "cells": [
    {
      "cell_type": "code",
      "execution_count": null,
      "metadata": {
        "colab": {
          "base_uri": "https://localhost:8080/"
        },
        "id": "0QoiZ1XYD1_X",
        "outputId": "c5a7b2b4-59be-4ad8-9f39-b460d9a18e0d"
      },
      "outputs": [
        {
          "output_type": "stream",
          "name": "stdout",
          "text": [
            "<class 'pandas.core.frame.DataFrame'>\n",
            "RangeIndex: 4515 entries, 0 to 4514\n",
            "Data columns (total 22 columns):\n",
            " #   Column                                 Non-Null Count  Dtype  \n",
            "---  ------                                 --------------  -----  \n",
            " 0   ONS ID                                 4515 non-null   object \n",
            " 1   ONS region ID                          4507 non-null   object \n",
            " 2   Constituency name                      4515 non-null   object \n",
            " 3   County name                            0 non-null      float64\n",
            " 4   Region name                            4515 non-null   object \n",
            " 5   Country name                           4515 non-null   object \n",
            " 6   Constituency type                      4515 non-null   object \n",
            " 7   Party name                             4515 non-null   object \n",
            " 8   Party abbreviation                     4515 non-null   object \n",
            " 9   Electoral Commission party ID          4055 non-null   object \n",
            " 10  MNIS party ID                          4515 non-null   int64  \n",
            " 11  Electoral Commission adjunct party ID  49 non-null     object \n",
            " 12  Candidate first name                   4515 non-null   object \n",
            " 13  Candidate surname                      4515 non-null   object \n",
            " 14  Candidate gender                       4515 non-null   object \n",
            " 15  Sitting MP                             4515 non-null   object \n",
            " 16  Former MP                              4515 non-null   object \n",
            " 17  Member MNIS ID                         885 non-null    float64\n",
            " 18  Votes                                  4515 non-null   int64  \n",
            " 19  Share                                  4515 non-null   float64\n",
            " 20  Change                                 3009 non-null   float64\n",
            " 21  DC Person ID                           4515 non-null   int64  \n",
            "dtypes: float64(4), int64(3), object(15)\n",
            "memory usage: 776.1+ KB\n",
            "None\n"
          ]
        }
      ],
      "source": [
        "import pandas as pd\n",
        "import matplotlib.pyplot as plt\n",
        "import numpy as np\n",
        "from sklearn.linear_model import LinearRegression\n",
        "\n",
        "\n",
        "df1 = pd.read_csv('HoC-GE2024-results-by-candidate.csv')\n",
        "print(df1.info())"
      ]
    },
    {
      "cell_type": "code",
      "source": [
        "df2 = pd.read_csv('HoC-GE2024-results-by-constituency.csv')\n",
        "\n",
        "print(df2.info())"
      ],
      "metadata": {
        "colab": {
          "base_uri": "https://localhost:8080/"
        },
        "id": "-pSWbwlID728",
        "outputId": "2e26c183-1f88-4c3b-82b1-5e0c6482f2f4"
      },
      "execution_count": null,
      "outputs": [
        {
          "output_type": "stream",
          "name": "stdout",
          "text": [
            "<class 'pandas.core.frame.DataFrame'>\n",
            "RangeIndex: 650 entries, 0 to 649\n",
            "Data columns (total 32 columns):\n",
            " #   Column                 Non-Null Count  Dtype  \n",
            "---  ------                 --------------  -----  \n",
            " 0   ONS ID                 650 non-null    object \n",
            " 1   ONS region ID          650 non-null    object \n",
            " 2   Constituency name      650 non-null    object \n",
            " 3   County name            0 non-null      float64\n",
            " 4   Region name            650 non-null    object \n",
            " 5   Country name           650 non-null    object \n",
            " 6   Constituency type      650 non-null    object \n",
            " 7   Declaration time       0 non-null      float64\n",
            " 8   Member first name      650 non-null    object \n",
            " 9   Member surname         650 non-null    object \n",
            " 10  Member gender          650 non-null    object \n",
            " 11  Result                 650 non-null    object \n",
            " 12  First party            650 non-null    object \n",
            " 13  Second party           650 non-null    object \n",
            " 14  Electorate             650 non-null    int64  \n",
            " 15  Valid votes            650 non-null    int64  \n",
            " 16  Invalid votes          650 non-null    int64  \n",
            " 17  Majority               650 non-null    int64  \n",
            " 18  Con                    650 non-null    int64  \n",
            " 19  Lab                    650 non-null    int64  \n",
            " 20  LD                     650 non-null    int64  \n",
            " 21  RUK                    650 non-null    int64  \n",
            " 22  Green                  650 non-null    int64  \n",
            " 23  SNP                    650 non-null    int64  \n",
            " 24  PC                     650 non-null    int64  \n",
            " 25  DUP                    650 non-null    int64  \n",
            " 26  SF                     650 non-null    int64  \n",
            " 27  SDLP                   650 non-null    int64  \n",
            " 28  UUP                    650 non-null    int64  \n",
            " 29  APNI                   650 non-null    int64  \n",
            " 30  All other candidates   650 non-null    int64  \n",
            " 31  Of which other winner  650 non-null    int64  \n",
            "dtypes: float64(2), int64(18), object(12)\n",
            "memory usage: 162.6+ KB\n",
            "None\n"
          ]
        }
      ]
    },
    {
      "cell_type": "code",
      "source": [
        "class CustomLinearRegression:\n",
        "    def __init__(self, x_entries, y_entries):\n",
        "        self.x_entries = x_entries\n",
        "        self.y_entries = y_entries\n",
        "\n",
        "        self.w0 = self.w1 = 0\n",
        "\n",
        "        self.new_y_entries = []\n",
        "\n",
        "        self.mse = None\n",
        "        self.rmse = None\n",
        "        self.mae = None\n",
        "        self.mape = None\n",
        "        self.r2 = None\n",
        "\n",
        "        self.get_linear_regression()\n",
        "        self.get_metrics()\n",
        "\n",
        "    def get_gradient(self, x, y, w0, w1):\n",
        "        n = len(x)\n",
        "        gr_w0 = (1/n) * np.sum([w0 + w1 * x[i] - y[i] for i in range(n)])\n",
        "        gr_w1 = (1/n) * np.sum([(w0 + w1 * x[i] - y[i]) * x[i] for i in range(n)])\n",
        "        return [gr_w0, gr_w1]\n",
        "\n",
        "    def get_line_y(self, w0, w1, x):\n",
        "        return w1 * x + w0\n",
        "\n",
        "    def get_linear_regression(self):\n",
        "        e = 0.00001\n",
        "        eta = 0.1\n",
        "        while True:\n",
        "            if abs(self.w0)>10000:\n",
        "                raise Exception('Overflow')\n",
        "            [gr_w0, gr_w1] = self.get_gradient(self.x_entries, self.y_entries, self.w0, self.w1)\n",
        "            if np.max(np.abs(np.array([gr_w0, gr_w1]))) < e:\n",
        "                break\n",
        "            else:\n",
        "                self.w0 = self.w0 - eta * gr_w0\n",
        "                self.w1 = self.w1 - eta * gr_w1\n",
        "\n",
        "        self.new_y_entries = self.get_line_y(self.w0, self.w1, self.x_entries)\n",
        "\n",
        "    def get_metrics(self):\n",
        "        n = len(self.x_entries)\n",
        "        self.mse = 1/n * np.sum((self.y_entries-self.new_y_entries)**2)\n",
        "        self.rmse = np.sqrt(self.mse)\n",
        "        self.mae = 1/n * np.sum(np.abs(self.y_entries-self.new_y_entries))\n",
        "        self.mape = 100/n * np.sum(np.abs((self.y_entries-self.new_y_entries)/self.y_entries))\n",
        "        new_y_entries_mean = np.mean(self.new_y_entries)\n",
        "        self.r2 = 1 - (np.sum((self.y_entries-self.new_y_entries)**2) / np.sum((self.y_entries-new_y_entries_mean)**2))\n",
        "\n",
        "    def print_metrics(self):\n",
        "        print('MSE', self.mse)\n",
        "        print('RMSE', self.rmse)\n",
        "        print('MAE', self.mae)\n",
        "        print('MAPE', self.mape)\n",
        "        print('R2', self.r2)\n",
        "        print('Model Parameters', self.w0, self.w1)\n",
        "\n",
        "    def plot(self):\n",
        "        x_line = np.arange(min(self.x_entries), max(self.x_entries), 0.01)\n",
        "        y_line = self.get_line_y(self.w0, self.w1, x_line)\n",
        "        plt.plot(x_line, y_line, color='red')"
      ],
      "metadata": {
        "id": "QxKx5hMQEq-A"
      },
      "execution_count": null,
      "outputs": []
    },
    {
      "cell_type": "markdown",
      "source": [
        "Getting percentage shares of each party within constituency, instead of their vote count"
      ],
      "metadata": {
        "id": "GUnPDYqCEOiB"
      }
    },
    {
      "cell_type": "code",
      "source": [
        "shares_by_party = df2.copy()\n",
        "list_of_party_columns = ['Con', 'Lab', 'LD', 'RUK', 'Green', 'SNP', 'PC', 'DUP', 'SF', 'SDLP', 'UUP', 'APNI', 'All other candidates', 'Of which other winner']\n",
        "for party in list_of_party_columns:\n",
        "    shares_by_party[party] = shares_by_party[party]/shares_by_party['Valid votes']"
      ],
      "metadata": {
        "id": "LTA0Z4N-D8br"
      },
      "execution_count": null,
      "outputs": []
    },
    {
      "cell_type": "markdown",
      "source": [
        "If we take results within London, there is a pretty strong 0.72 correlation between the Labour Party and the Green Party. This is because Labour is a centre-left party, and green is left-wing party, which means that Greens tend to do best, where there are more left-leaning voters to convince to vote further-left."
      ],
      "metadata": {
        "id": "dpy1morAEXzC"
      }
    },
    {
      "cell_type": "code",
      "source": [
        "print(shares_by_party[['Con', 'Lab', 'LD', 'RUK', 'Green']][shares_by_party['Region name']=='London'].corr())\n",
        "print()\n",
        "\n",
        "lab_margins = shares_by_party[shares_by_party['Region name']=='London']['Lab'].values\n",
        "green_margins = shares_by_party[shares_by_party['Region name']=='London']['Green'].values\n",
        "ld_margins = shares_by_party[shares_by_party['Region name']=='London']['LD'].values\n",
        "con_margins = shares_by_party[shares_by_party['Region name']=='London']['Con'].values\n",
        "ruk_margins = shares_by_party[shares_by_party['Region name']=='London']['RUK'].values\n",
        "\n",
        "\n",
        "shares_by_party[shares_by_party['Region name']=='London'].plot.scatter(x='Lab', y='Green')\n",
        "regression_obj = CustomLinearRegression(lab_margins, green_margins)\n",
        "regression_obj.print_metrics()\n",
        "regression_obj.plot()"
      ],
      "metadata": {
        "colab": {
          "base_uri": "https://localhost:8080/",
          "height": 685
        },
        "id": "kj-NHV0qEmuq",
        "outputId": "4fd69b79-34c3-4daf-cf9b-8e88db635686"
      },
      "execution_count": null,
      "outputs": [
        {
          "output_type": "stream",
          "name": "stdout",
          "text": [
            "            Con       Lab        LD       RUK     Green\n",
            "Con    1.000000 -0.553655 -0.012161  0.424760 -0.748521\n",
            "Lab   -0.553655  1.000000 -0.615104 -0.381731  0.721070\n",
            "LD    -0.012161 -0.615104  1.000000 -0.056601 -0.235601\n",
            "RUK    0.424760 -0.381731 -0.056601  1.000000 -0.435776\n",
            "Green -0.748521  0.721070 -0.235601 -0.435776  1.000000\n",
            "\n",
            "MSE 0.0012592293268426028\n",
            "RMSE 0.03548562140984152\n",
            "MAE 0.029169617416566984\n",
            "MAPE 33.505889348027054\n",
            "R2 0.5199380199214148\n",
            "Model Parameters -0.026472182654033605 0.29542424027095915\n"
          ]
        },
        {
          "output_type": "display_data",
          "data": {
            "text/plain": [
              "<Figure size 640x480 with 1 Axes>"
            ],
            "image/png": "[encoded data removed]"
          },
          "metadata": {}
        }
      ]
    },
    {
      "cell_type": "markdown",
      "source": [
        "Same thing, but done with scikit"
      ],
      "metadata": {
        "id": "Hu9cckd7FOvX"
      }
    },
    {
      "cell_type": "code",
      "source": [
        "from sklearn.linear_model import LinearRegression\n",
        "from sklearn.metrics import mean_absolute_error, mean_squared_error, r2_score, mean_absolute_percentage_error\n",
        "\n",
        "def print_metrics(y_true, y_pred):\n",
        "    print(f'MSE:  {mean_squared_error(y_true, y_pred):.3f}')\n",
        "    print(f'RMSE: {np.sqrt(mean_squared_error(y_true, y_pred)):.3f}')\n",
        "    print(f'MAE:  {mean_absolute_error(y_true, y_pred):.3f}')\n",
        "    print(f'MAPE: {mean_absolute_percentage_error(y_true, y_pred):.3f}')\n",
        "    print(f'R2:   {r2_score(y_true, y_pred):.3f}')\n",
        "\n",
        "lab_margins_reshaped = lab_margins.reshape(-1, 1)\n",
        "green_margins_reshaped = green_margins.reshape(-1, 1)\n",
        "ld_margins_reshaped = ld_margins.reshape(-1, 1)\n",
        "con_margins_reshaped = con_margins.reshape(-1, 1)\n",
        "ruk_margins_reshaped = ruk_margins.reshape(-1, 1)\n",
        "\n",
        "\n",
        "lr = LinearRegression()\n",
        "lr.fit(lab_margins_reshaped, green_margins_reshaped)\n",
        "y_pred = lr.predict(lab_margins_reshaped)"
      ],
      "metadata": {
        "id": "G9mgAMbiFR76"
      },
      "execution_count": null,
      "outputs": []
    },
    {
      "cell_type": "code",
      "source": [
        "print('My implementation:')\n",
        "regression_obj.print_metrics()\n",
        "\n",
        "print('')\n",
        "print('Scikit implementation:')\n",
        "print('Training error:')\n",
        "print_metrics(green_margins_reshaped, lr.predict(lab_margins_reshaped))\n",
        "\n",
        "print()\n",
        "print('Model parameters:')\n",
        "print(lr.intercept_, lr.coef_)"
      ],
      "metadata": {
        "colab": {
          "base_uri": "https://localhost:8080/"
        },
        "id": "QUsuPXR1Hj0Q",
        "outputId": "ffae935f-48a8-4843-f4d6-2f2edd6237e5"
      },
      "execution_count": null,
      "outputs": [
        {
          "output_type": "stream",
          "name": "stdout",
          "text": [
            "My implementation:\n",
            "MSE 0.0012592293268426028\n",
            "RMSE 0.03548562140984152\n",
            "MAE 0.029169617416566984\n",
            "MAPE 33.505889348027054\n",
            "R2 0.5199380199214148\n",
            "Model Parameters -0.026472182654033605 0.29542424027095915\n",
            "\n",
            "Scikit implementation:\n",
            "Training error:\n",
            "MSE:  0.001\n",
            "RMSE: 0.035\n",
            "MAE:  0.029\n",
            "MAPE: 0.335\n",
            "R2:   0.520\n",
            "\n",
            "Model parameters:\n",
            "[-0.02681061] [[0.29619096]]\n"
          ]
        }
      ]
    },
    {
      "cell_type": "markdown",
      "source": [
        "A few more linear regression examples.\n",
        "\n",
        "Conservative and Greens have strong negative correlation, and it's pretty consistent that it's pretty easy to 'guess' the result.\n"
      ],
      "metadata": {
        "id": "glXso-pSWeUK"
      }
    },
    {
      "cell_type": "code",
      "source": [
        "print('Conservative and Green:')\n",
        "shares_by_party[shares_by_party['Region name']=='London'].plot.scatter(x='Con', y='Green')\n",
        "regression_obj = CustomLinearRegression(con_margins, green_margins)\n",
        "regression_obj.print_metrics()\n",
        "regression_obj.plot()"
      ],
      "metadata": {
        "colab": {
          "base_uri": "https://localhost:8080/",
          "height": 577
        },
        "id": "gw4t1uzQWmRE",
        "outputId": "58ed917a-0ad3-477a-f28f-50babebd8d01"
      },
      "execution_count": null,
      "outputs": [
        {
          "output_type": "stream",
          "name": "stdout",
          "text": [
            "Conservative and Green:\n",
            "MSE 0.0011534070201460861\n",
            "RMSE 0.033961846536165935\n",
            "MAE 0.02625840457925572\n",
            "MAPE 33.632232962717076\n",
            "R2 0.5602811582009257\n",
            "Model Parameters 0.16951486964909276 -0.3337085824732215\n"
          ]
        },
        {
          "output_type": "display_data",
          "data": {
            "text/plain": [
              "<Figure size 640x480 with 1 Axes>"
            ],
            "image/png": "[encoded data removed]"
          },
          "metadata": {}
        }
      ]
    },
    {
      "cell_type": "markdown",
      "source": [
        "Conservatives and Liberal Democrats have no correlation (lib dems mostly do poorly, but there are some seats where they won, some where they are 2nd against labour, and some, where they are 2nd against conservatives). We would likely be able to guess the result if not for the existing outliers."
      ],
      "metadata": {
        "id": "4Ehoz4LGbGtn"
      }
    },
    {
      "cell_type": "code",
      "source": [
        "print('Conservative and Liberal Democrat:')\n",
        "shares_by_party[shares_by_party['Region name']=='London'].plot.scatter(x='Con', y='LD')\n",
        "regression_obj = CustomLinearRegression(con_margins, ld_margins)\n",
        "regression_obj.print_metrics()\n",
        "regression_obj.plot()"
      ],
      "metadata": {
        "colab": {
          "base_uri": "https://localhost:8080/",
          "height": 574
        },
        "id": "2F-NW1R1XQAh",
        "outputId": "d15b9de5-c6fe-46d9-8c23-4a842046cb53"
      },
      "execution_count": null,
      "outputs": [
        {
          "output_type": "stream",
          "name": "stdout",
          "text": [
            "Conservative and Liberal Democrat:\n",
            "MSE 0.013748323724137984\n",
            "RMSE 0.11725324611343596\n",
            "MAE 0.06740252625104755\n",
            "MAPE 85.0876905492784\n",
            "R2 0.00014729563668736123\n",
            "Model Parameters 0.10747609242742388 -0.011651096161482298\n"
          ]
        },
        {
          "output_type": "display_data",
          "data": {
            "text/plain": [
              "<Figure size 640x480 with 1 Axes>"
            ],
            "image/png": "[encoded data removed]"
          },
          "metadata": {}
        }
      ]
    },
    {
      "cell_type": "markdown",
      "source": [
        "Liberal Democrats and Greens have weak negative correlation, and while it is very difficult to guess the result, metrics don't appear to be too awful, especially in comparison to the previous one."
      ],
      "metadata": {
        "id": "hD9FtPbgbni3"
      }
    },
    {
      "cell_type": "code",
      "source": [
        "print('Liberal Democrat and Green:')\n",
        "shares_by_party[shares_by_party['Region name']=='London'].plot.scatter(x='LD', y='Green')\n",
        "regression_obj = CustomLinearRegression(ld_margins, green_margins)\n",
        "regression_obj.print_metrics()\n",
        "regression_obj.plot()"
      ],
      "metadata": {
        "colab": {
          "base_uri": "https://localhost:8080/",
          "height": 580
        },
        "id": "Jsm3k922XQcj",
        "outputId": "82676c97-1fc4-466e-b50d-21b067c5c2d4"
      },
      "execution_count": null,
      "outputs": [
        {
          "output_type": "stream",
          "name": "stdout",
          "text": [
            "Liberal Democrat and Green:\n",
            "MSE 0.0024774635039354087\n",
            "RMSE 0.04977412484349081\n",
            "MAE 0.04025683165173856\n",
            "MAPE 49.507418161249184\n",
            "R2 0.05550480898630228\n",
            "Model Parameters 0.11295964114693667 -0.10216716809938474\n"
          ]
        },
        {
          "output_type": "display_data",
          "data": {
            "text/plain": [
              "<Figure size 640x480 with 1 Axes>"
            ],
            "image/png": "[encoded data removed]"
          },
          "metadata": {}
        }
      ]
    },
    {
      "cell_type": "markdown",
      "source": [
        "Training and evaluating the linear-regression model using k-fold cross validation"
      ],
      "metadata": {
        "id": "aqSxI2ulGkX3"
      }
    },
    {
      "cell_type": "code",
      "source": [
        "from sklearn.model_selection import cross_val_score\n",
        "\n",
        "print(shares_by_party[['Con', 'Lab', 'LD', 'RUK', 'Green']][shares_by_party['Region name']=='London'].corr())\n",
        "print()\n",
        "\n",
        "def rmse(model, X, y):\n",
        "    return np.sqrt(mean_squared_error(y, model.predict(X)))\n",
        "\n",
        "n_folds = 5\n",
        "\n",
        "model = LinearRegression()\n",
        "\n",
        "scores = cross_val_score(model, lab_margins_reshaped, green_margins_reshaped, cv=n_folds, scoring=rmse)\n",
        "\n",
        "print('Labour and Green:')\n",
        "print(scores)\n",
        "print('Total:', scores.mean())\n",
        "print()\n",
        "\n",
        "scores = cross_val_score(model, con_margins_reshaped, green_margins_reshaped, cv=n_folds, scoring=rmse)\n",
        "\n",
        "print('Conservative and Green:')\n",
        "print(scores)\n",
        "print('Total:', scores.mean())\n",
        "print()\n",
        "\n",
        "scores = cross_val_score(model, con_margins_reshaped, ld_margins_reshaped, cv=n_folds, scoring=rmse)\n",
        "\n",
        "print('Conservative and Liberal Democrat:')\n",
        "print(scores)\n",
        "print('Total:', scores.mean())\n",
        "print()\n",
        "\n",
        "scores = cross_val_score(model, ld_margins_reshaped, green_margins_reshaped, cv=n_folds, scoring=rmse)\n",
        "\n",
        "print('Liberal Democrat and Green:')\n",
        "print(scores)\n",
        "print('Total:', scores.mean())"
      ],
      "metadata": {
        "colab": {
          "base_uri": "https://localhost:8080/"
        },
        "id": "-t_Jhi3ZGjQ1",
        "outputId": "3443aaff-c21a-4e30-973a-631e6632e16a"
      },
      "execution_count": null,
      "outputs": [
        {
          "output_type": "stream",
          "name": "stdout",
          "text": [
            "            Con       Lab        LD       RUK     Green\n",
            "Con    1.000000 -0.553655 -0.012161  0.424760 -0.748521\n",
            "Lab   -0.553655  1.000000 -0.615104 -0.381731  0.721070\n",
            "LD    -0.012161 -0.615104  1.000000 -0.056601 -0.235601\n",
            "RUK    0.424760 -0.381731 -0.056601  1.000000 -0.435776\n",
            "Green -0.748521  0.721070 -0.235601 -0.435776  1.000000\n",
            "\n",
            "Labour and Green:\n",
            "[0.03189117 0.03056143 0.04401388 0.03998635 0.0418947 ]\n",
            "Total: 0.03766950557689936\n",
            "\n",
            "Conservative and Green:\n",
            "[0.02039007 0.023702   0.04309476 0.04147758 0.03669708]\n",
            "Total: 0.03307229656775382\n",
            "\n",
            "Conservative and Liberal Democrat:\n",
            "[0.09941702 0.053646   0.06423557 0.11058926 0.21196605]\n",
            "Total: 0.10797077958660843\n",
            "\n",
            "Liberal Democrat and Green:\n",
            "[0.04405173 0.0330623  0.06245679 0.05987262 0.0526593 ]\n",
            "Total: 0.050420550856772495\n"
          ]
        }
      ]
    }
  ]
}